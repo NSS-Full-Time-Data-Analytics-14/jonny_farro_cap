import pandas as pd
import seaborn as sns
import matplotlib.pyplot as plt






protein_one = pd.read_csv('/Users/jonathanfarro/Desktop/animal-protein-consumption.csv')

life_ex = pd.read_csv('/Users/jonathanfarro/Desktop/ Capstone Files/life-expectancy-hmd-unwpp.csv')

usa_pricing = pd.read_csv('/Users/jonathanfarro/Desktop/ Capstone Files/average_prices_for_food.csv')

daily_cals = pd.read_csv('/Users/jonathanfarro/Desktop/ Capstone Files/daily-caloric-supply-derived-from-carbohydrates-protein-and-fat.csv')

fruit_per_cap = pd.read_csv('/Users/jonathanfarro/Desktop/ Capstone Files/fruit-consumption-per-capita.csv')

veg_per_cap = pd.read_csv('/Users/jonathanfarro/Desktop/ Capstone Files/vegetable-consumption-per-capita/vegetable-consumption-per-capita.csv' )

vitamins =  pd.read_excel('/Users/jonathanfarro/Desktop/ Capstone Files/food_comp.xlsx')

protein_per_GDP = pd.read_csv('/Users/jonathanfarro/Desktop/ Capstone Files/daily-per-capita-protein-supply-vs-gdp-per-capita.csv')

death = pd.read_csv('/Users/jonathanfarro/Desktop/ Capstone Files/death-rate-by-cause-who-mdb.csv')







# rename columns to something easier to work with 

protein = protein_one.rename(columns={
                        protein_one.columns[3]:'fish',
                        protein_one.columns[4]:'poultry',
                        protein_one.columns[5]:'pork',
                        protein_one.columns[6]:'beef',
                        protein_one.columns[7]:'sheep/goat',
                        protein_one.columns[8]:'other',
                        protein_one.columns[9]:'eggs',
                        protein_one.columns[10]:'milk'
                       })



# bulk clean up 
protein = protein.rename(columns=lambda x: x.lower())
protein = protein.map(lambda x: x.lower() if isinstance(x, str) else x).reset_index(drop=True)

life_ex = life_ex.rename(columns = lambda x: x.lower())
life_ex = life_ex.map(lambda x:x.lower() if isinstance(x,str) else x).reset_index(drop = True)
life_ex = life_ex.rename(columns = {life_ex.columns[3] : 'life_expectancy'})

vitamins = vitamins.rename(columns = lambda x: x.lower())
vitamins = vitamins.map(lambda x:x.lower() if isinstance(x,str) else x).reset_index(drop = True)

protein_per_GDP = protein_per_GDP.rename(columns = lambda x: x.lower())
protein_per_GDP = protein_per_GDP.map(lambda x:x.lower() if isinstance(x,str) else x).reset_index(drop = True)
gdp_population = protein_per_GDP.drop(columns= {protein_per_GDP.columns[3],protein_per_GDP.columns[6]})
gdp_population = gdp_population.rename(columns = { gdp_population.columns[3]: 'gdp_per_capita'}) 



daily_cals = daily_cals.rename(columns = lambda x: x.lower())
daily_cals = daily_cals.map(lambda x:x.lower() if isinstance(x,str) else x).reset_index(drop = True)



food_pop_gdp =    pd.merge(all_foods,
                  gdp_population, 
                  on = ['entity','code','year'],
                  how = 'inner')
food_pop_gdp.head(1) 

main_df = food_pop_gdp.rename(columns = {food_pop_gdp.columns [18]:'population'})

correlation = main_df.loc[:, main_df.columns[2:19]].corr()
correlation


capstone = pd.merge(main_df,
         life_ex,
         on= ['entity','code','year'],
         how= 'inner')

main_corr = main_page.loc[:, main_page.columns[2:20]].corr()
main_corr


# creating a new column to show total_protein intake for a day.
protein['total_protein'] = protein.iloc[:, 3:11].sum(axis = 1).round(2)
protein['total_yearly_protein'] = (protein['total_protein'] * 365).round()
protein.head()



fruit_per_cap = fruit_per_cap.rename(columns=lambda x: x.lower())
fruit_per_cap = fruit_per_cap.map(lambda x: x.lower() if isinstance(x, str) else x).reset_index(drop=True)
#fruit_per_cap.head()
fruit = fruit_per_cap.rename(columns = {fruit_per_cap.columns[3]:'fruit_kilo_yearly'}).reset_index(drop = True)


world_protein = protein.loc[protein['entity']== "world"]
world_protein = world_protein.map(lambda x: x.lower() if isinstance(x, str) else x).reset_index(drop=True)
world_protein.head()



#In essence, this code helps you understand the minimum 'total_protein' values observed in years where 'protein' consumption was at its lowest


protein.groupby(['year','entity']).agg({'total_protein': 'min'}).head()



#loop to classify food groups? 


fruit_protein = pd.merge(protein,fruit, on = ['entity','code','year'],how= 'inner')


veg = veg_per_cap.rename(columns=lambda x: x.lower())
veg = veg.map(lambda x: x.lower() if isinstance(x, str) else x).reset_index(drop=True)
veg = veg.rename(columns = {veg.columns[3]:'veg_kilo_yearly'})


all_foods = pd.merge(fruit_protein, veg, on = ['entity','code','year'],how= 'inner')



all_foods['fruit_grams_daily'] = (all_foods['fruit_kilo_yearly'] * 1000/365).round()
all_foods['veg_grams_daily']   = (all_foods['veg_kilo_yearly'] * 1000/365).round()
 


#shows that pork is skipped for religious reasons



all_foods.isnull().sum()


all_foods.entity.unique()


us_food_choices = all_foods.loc[all_foods['entity']=='united states']
sns.lineplot(us_food_choices, x = 'year', y = 'eggs')


usa_life_ex = life_ex.loc[life_ex['entity'] == 'united states']


plt.figure(figsize=(15,8))
sns.scatterplot(life_ex,x='year',
                y='life_expectancy(0)',
                hue= 'entity',
               legend = False)



all_foods.head()


plt.figure(figsize=(15,8))

sns.scatterplot(all_foods,x='year',
                y='veg_grams_daily',
                hue= 'entity',
               legend = False)



plt.figure(figsize=(15,8)) 
sns.scatterplot(all_foods,x='year',
                y='fruit_grams_daily',
                hue='entity',
                legend= False)


plt.figure(figsize=(15,8)) 

sns.scatterplot(y= life_ex['life_expectancy(0)'], 
                x= all_foods['total_protein'],
                hue=all_foods['entity'],
                legend= False)


sns.scatterplot(life_ex,
               x='year',
               y='life_expectancy(0)')


all_foods[['year','veg_grams_daily']].describe()


plt.figure(figsize=(15,8))

sns.scatterplot(all_foods,x='year',
                y='pork',
                hue = 'entity',
                legend = False)


mask2 = (us_food_choices['year'] >= 2010) & (us_food_choices['year'] <= 2020)  
us_food_choices.loc[mask2]


all_foods.head()


sns.scatterplot(all_foods.loc[all_foods['entity']=='world'],x='year',y='fruit_kilo_yearly')


all_foods


usa_food_pricing = usa_pricing.drop(columns = usa_pricing.columns[0])


all_foods.shape


life_ex.shape


gdp_population


us_food_choices.isin(us_food_choices.loc[usa_food_choices['year'] == 


mask = (us_food_choices['year'] >= 1980) & (us_food_choices['year'] <= 2000)  
us_food_choices.loc[mask]


gdp_population.head()


plt.figure(figsize=(15,8))

sns.scatterplot(food_pop_gdp,
                x='gdp_per_capita',
                y='total_protein',
                hue = 'entity',
                legend = False)


plt.figure(figsize=(15,8))

sns.scatterplot(food_pop_gdp,
                x=life_ex['life_expectancy(0)'],
                y='gdp_per_capita',
                hue = 'entity',
                legend = False)



