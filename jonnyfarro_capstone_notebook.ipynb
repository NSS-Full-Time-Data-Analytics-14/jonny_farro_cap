{
 "cells": [
  {
   "cell_type": "code",
   "execution_count": null,
   "id": "3e9ca249-02c5-48a8-807f-91add569e90f",
   "metadata": {},
   "outputs": [],
   "source": [
    "import pandas as pd\n",
    "import seaborn as sns\n",
    "import matplotlib.pyplot as plt\n",
    "import matplotlib as mpl\n",
    "import numpy as np"
   ]
  },
  {
   "cell_type": "markdown",
   "id": "db946cde-8aff-4f4f-a89d-4ccda2e691a3",
   "metadata": {
    "jp-MarkdownHeadingCollapsed": true
   },
   "source": [
    "# cleaning"
   ]
  },
  {
   "cell_type": "code",
   "execution_count": null,
   "id": "2635d2b1-33fa-452f-9089-76ca2a2aa386",
   "metadata": {},
   "outputs": [],
   "source": [
    "protein_one = pd.read_csv('/Users/jonathanfarro/Desktop/animal-protein-consumption.csv')\n",
    "\n",
    "life_ex = pd.read_csv('/Users/jonathanfarro/Desktop/ Capstone Files/life-expectancy-hmd-unwpp.csv')\n",
    "\n",
    "usa_pricing = pd.read_csv('/Users/jonathanfarro/Desktop/ Capstone Files/average_prices_for_food.csv')\n",
    "\n",
    "daily_cals = pd.read_csv('/Users/jonathanfarro/Desktop/ Capstone Files/daily-caloric-supply-derived-from-carbohydrates-protein-and-fat.csv')\n",
    "\n",
    "fruit_per_cap = pd.read_csv('/Users/jonathanfarro/Desktop/ Capstone Files/fruit-consumption-per-capita.csv')\n",
    "\n",
    "veg_per_cap = pd.read_csv('/Users/jonathanfarro/Desktop/ Capstone Files/vegetable-consumption-per-capita/vegetable-consumption-per-capita.csv' )\n",
    "\n",
    "nutrition =  pd.read_excel('/Users/jonathanfarro/Desktop/ Capstone Files/food_comp.xlsx')\n",
    "\n",
    "protein_per_GDP = pd.read_csv('/Users/jonathanfarro/Desktop/ Capstone Files/daily-per-capita-protein-supply-vs-gdp-per-capita.csv')\n",
    "\n",
    "death = pd.read_csv('/Users/jonathanfarro/Desktop/ Capstone Files/death-rate-by-cause-who-mdb.csv')\n",
    "\n"
   ]
  },
  {
   "cell_type": "code",
   "execution_count": null,
   "id": "9b495f5c-d1ba-4a50-b37a-e0b618d958c7",
   "metadata": {},
   "outputs": [],
   "source": [
    "# rename columns to something easier to work with \n",
    "\n",
    "protein = protein_one.rename(columns={\n",
    "                        protein_one.columns[3]:'fish',\n",
    "                        protein_one.columns[4]:'poultry',\n",
    "                        protein_one.columns[5]:'pork',\n",
    "                        protein_one.columns[6]:'beef',\n",
    "                        protein_one.columns[7]:'sheep/goat',\n",
    "                        protein_one.columns[8]:'other',\n",
    "                        protein_one.columns[9]:'eggs',\n",
    "                        protein_one.columns[10]:'milk'\n",
    "                       })"
   ]
  },
  {
   "cell_type": "code",
   "execution_count": null,
   "id": "48673e55-b5ac-46f0-a3c7-4898c145f2a0",
   "metadata": {},
   "outputs": [],
   "source": [
    "# bulk clean up \n",
    "protein = protein.rename(columns=lambda x: x.lower())\n",
    "protein = protein.map(lambda x: x.lower() if isinstance(x, str) else x).reset_index(drop=True)\n",
    "\n",
    "life_ex = life_ex.rename(columns = lambda x: x.lower())\n",
    "life_ex = life_ex.map(lambda x:x.lower() if isinstance(x,str) else x).reset_index(drop = True)\n",
    "life_ex = life_ex.rename(columns = {life_ex.columns[3] : 'life_expectancy(0)'})\n",
    "\n",
    "protein_per_GDP = protein_per_GDP.rename(columns = lambda x: x.lower())\n",
    "protein_per_GDP = protein_per_GDP.map(lambda x:x.lower() if isinstance(x,str) else x).reset_index(drop = True)\n",
    "gdp_population = protein_per_GDP.drop(columns= {protein_per_GDP.columns[3],protein_per_GDP.columns[6]})\n",
    "gdp_population = gdp_population.rename(columns = { gdp_population.columns[3]: 'gdp_per_capita'}) \n",
    "\n",
    "\n",
    "daily_cals = daily_cals.rename(columns = lambda x: x.lower())\n",
    "daily_cals = daily_cals.map(lambda x:x.lower() if isinstance(x,str) else x).reset_index(drop = True)\n",
    "\n",
    "death = death.rename(columns = lambda x: x.lower())\n",
    "death = death.map(lambda x:x.lower() if isinstance(x,str) else x).reset_index(drop = True)\n",
    "\n",
    "nutrition = nutrition.rename(columns = lambda x: x.lower())\n",
    "nutrition = nutrition.map(lambda x:x.lower() if isinstance(x,str) else x).reset_index(drop = True)\n",
    "\n",
    "fruit_per_cap = fruit_per_cap.rename(columns=lambda x: x.lower())\n",
    "fruit_per_cap = fruit_per_cap.map(lambda x: x.lower() if isinstance(x, str) else x).reset_index(drop=True)\n",
    "fruit = fruit_per_cap.rename(columns = {fruit_per_cap.columns[3]:'fruit_kilo_yearly'}).reset_index(drop = True)\n"
   ]
  },
  {
   "cell_type": "code",
   "execution_count": null,
   "id": "ece4cdab-3886-4c70-bb91-84b00eafaa2f",
   "metadata": {},
   "outputs": [],
   "source": [
    "# creating a new column to show total_protein intake for a day.\n",
    "protein['total_protein'] = protein.iloc[:, 3:11].sum(axis = 1).round(2)"
   ]
  },
  {
   "cell_type": "code",
   "execution_count": null,
   "id": "16d4452c-e4ae-440e-b972-c162edb5c7f8",
   "metadata": {},
   "outputs": [],
   "source": [
    "fruit_per_cap = fruit_per_cap.rename(columns=lambda x: x.lower())\n",
    "fruit_per_cap = fruit_per_cap.map(lambda x: x.lower() if isinstance(x, str) else x).reset_index(drop=True)\n",
    "fruit = fruit_per_cap.rename(columns = {fruit_per_cap.columns[3]:'fruit_kilo_yearly'}).reset_index(drop = True)"
   ]
  },
  {
   "cell_type": "code",
   "execution_count": null,
   "id": "419835e2-ebb7-4079-9d51-d0cda8f9223f",
   "metadata": {},
   "outputs": [],
   "source": [
    "capstone = pd.merge(protein,\n",
    "         life_ex,\n",
    "         on= ['entity','code','year'],\n",
    "         how= 'inner')\n",
    "\n",
    "capstone.head()"
   ]
  },
  {
   "cell_type": "code",
   "execution_count": null,
   "id": "0cc4a649-042a-4801-8029-23e06aed15bd",
   "metadata": {},
   "outputs": [],
   "source": [
    "capstone_2 = pd.merge( capstone, gdp_population, on = ['entity','code','year'],how= 'inner')\n",
    "\n",
    "main_frame = pd.merge(capstone_2,death,  on = ['entity','code','year'],how= 'outer')\n",
    "\n",
    "final_frame = pd.merge(main_frame, daily_cals,  on = ['entity','code','year'],how= 'outer')\n",
    "\n",
    "final_frame['total_daily_protein']=final_frame.iloc[:, 3:10].sum(axis=1)\n",
    "\n",
    "final_frame = final_frame.rename(columns= { 'daily calorie supply per person that comes from animal protein':'daily_cal_animal_protein',\n",
    "                              'daily calorie supply per person that comes from vegetal protein':'daily_cal_veg_protein',\n",
    "                              'daily calorie supply per person from fat':'daily_cal_fat',\n",
    "                              'daily calorie supply per person from carbohydrates':'daily_cal_carbs'})\n",
    "final_frame.entity.unique()"
   ]
  },
  {
   "cell_type": "code",
   "execution_count": null,
   "id": "227edf45-31a1-4f7e-be83-dcd8f57c50c9",
   "metadata": {},
   "outputs": [],
   "source": [
    "#creating an all_cause_mortality column, and more cleaning"
   ]
  },
  {
   "cell_type": "code",
   "execution_count": null,
   "id": "fcf19d03-ae00-4aa4-ab05-84d5d4b61892",
   "metadata": {},
   "outputs": [],
   "source": [
    "final_frame['all_cause_per_100k'] = final_frame.iloc[:,15:24].sum(axis=1)\n",
    "\n",
    "final_frame_two = final_frame.drop(columns=final_frame.columns[15:24])\n",
    "\n",
    "final_frame_three = final_frame_two[~final_frame_two['entity'].str.contains(r'\\(.*\\)')]\n",
    "\n",
    "final = final_frame_three\n",
    "final = final.rename(columns={'life_expectancy(0)':'life_exp','population (historical)':'population'})"
   ]
  },
  {
   "cell_type": "code",
   "execution_count": null,
   "id": "1e131f30-3c9b-4df9-ac5d-a34647bc9d90",
   "metadata": {},
   "outputs": [],
   "source": [
    "#further cleaning.\n",
    "\n",
    "non_countries_list = ['asia','europe','high-income countries','low-income countries','lower-middle-income countries','oceania','upper-middle-income countries','world']\n",
    "income_classes= ['low-income countries','high-income countries','lower-middle-income countries','upper-middle-income countries','world']\n",
    "\n",
    "final_countries = final.loc[~final['entity'].isin(non_countries_list)]\n",
    "income_class = final.loc[final['entity'].isin(income_classes)]\n",
    "\n",
    "testdrop= final_countries\n",
    "\n",
    "df = testdrop.dropna()\n",
    "\n",
    "df['cals_from_protein'] = df['daily_cal_animal_protein'] + df['daily_cal_veg_protein']\n",
    "\n"
   ]
  },
  {
   "cell_type": "markdown",
   "id": "5394018e-f712-4b27-8539-ae7de834d4d8",
   "metadata": {
    "jp-MarkdownHeadingCollapsed": true
   },
   "source": [
    "# creating regions "
   ]
  },
  {
   "cell_type": "code",
   "execution_count": null,
   "id": "c6496059-e3cb-4352-9f6b-a4a31c04973d",
   "metadata": {},
   "outputs": [],
   "source": [
    "country_to_region = {\n",
    "    'algeria': 'Africa',\n",
    "    'angola': 'Africa',\n",
    "    'benin': 'Africa',\n",
    "    'botswana': 'Africa',\n",
    "    'burkina faso': 'Africa',\n",
    "    'burundi': 'Africa',\n",
    "    'cabo verde': 'Africa',\n",
    "    'cameroon': 'Africa',\n",
    "    'central african republic': 'Africa',\n",
    "    'chad': 'Africa',\n",
    "    'comoros': 'Africa',\n",
    "    'congo, democratic republic of the': 'Africa',\n",
    "    'congo, republic of the': 'Africa',\n",
    "    \"côte d'ivoire\": 'Africa',\n",
    "    'djibouti': 'Africa',\n",
    "    'egypt': 'Africa',\n",
    "    'equatorial guinea': 'Africa',\n",
    "    'eritrea': 'Africa',\n",
    "    'eswatini': 'Africa',\n",
    "    'ethiopia': 'Africa',\n",
    "    'gabon': 'Africa',\n",
    "    'gambia': 'Africa',\n",
    "    'ghana': 'Africa',\n",
    "    'guinea': 'Africa',\n",
    "    'guinea-bissau': 'Africa',\n",
    "    'kenya': 'Africa',\n",
    "    'lesotho': 'Africa',\n",
    "    'liberia': 'Africa',\n",
    "    'libya': 'Africa',\n",
    "    'madagascar': 'Africa',\n",
    "    'malawi': 'Africa',\n",
    "    'mali': 'Africa',\n",
    "    'mauritania': 'Africa',\n",
    "    'mauritius': 'Africa',\n",
    "    'morocco': 'Africa',\n",
    "    'mozambique': 'Africa',\n",
    "    'namibia': 'Africa',\n",
    "    'niger': 'Africa',\n",
    "    'nigeria': 'Africa',\n",
    "    'rwanda': 'Africa',\n",
    "    'sao tome and principe': 'Africa',\n",
    "    'senegal': 'Africa',\n",
    "    'seychelles': 'Africa',\n",
    "    'sierra leone': 'Africa',\n",
    "    'somalia': 'Africa',\n",
    "    'south africa': 'Africa',\n",
    "    'south sudan': 'Africa',\n",
    "    'sudan': 'Africa',\n",
    "    'tanzania': 'Africa',\n",
    "    'togo': 'Africa',\n",
    "    'tunisia': 'Africa',\n",
    "    'uganda': 'Africa',\n",
    "    'zambia': 'Africa',\n",
    "    'zimbabwe': 'Africa',\n",
    "    'afghanistan': 'Asia',\n",
    "    'armenia': 'Asia',\n",
    "    'azerbaijan': 'Asia',\n",
    "    'bahrain': 'Asia',\n",
    "    'bangladesh': 'Asia',\n",
    "    'bhutan': 'Asia',\n",
    "    'brunei': 'Asia',\n",
    "    'cambodia': 'Asia',\n",
    "    'china': 'Asia',\n",
    "    'cyprus': 'Asia', \n",
    "    'georgia': 'Asia',\n",
    "    'india': 'Asia',\n",
    "    'indonesia': 'Asia',\n",
    "    'iran': 'Asia',\n",
    "    'iraq': 'Asia',\n",
    "    'israel': 'Asia',\n",
    "    'japan': 'Asia',\n",
    "    'jordan': 'Asia',\n",
    "    'kazakhstan': 'Asia',\n",
    "    'kuwait': 'Asia',\n",
    "    'kyrgyzstan': 'Asia',\n",
    "    'laos': 'Asia',\n",
    "    'lebanon': 'Asia',\n",
    "    'malaysia': 'Asia',\n",
    "    'maldives': 'Asia',\n",
    "    'mongolia': 'Asia',\n",
    "    'myanmar': 'Asia',\n",
    "    'nepal': 'Asia',\n",
    "    'north korea': 'Asia',\n",
    "    'oman': 'Asia',\n",
    "    'pakistan': 'Asia',\n",
    "    'palestine': 'Asia',\n",
    "    'philippines': 'Asia',\n",
    "    'qatar': 'Asia',\n",
    "    'russia': 'Asia', # Mostly in Asia\n",
    "    'saudi arabia': 'Asia',\n",
    "    'singapore': 'Asia',\n",
    "    'south korea': 'Asia',\n",
    "    'sri lanka': 'Asia',\n",
    "    'syria': 'Asia',\n",
    "    'tajikistan': 'Asia',\n",
    "    'thailand': 'Asia',\n",
    "    'timor-leste': 'Asia',\n",
    "    'turkey': 'Asia', # Mostly in Asia\n",
    "    'turkmenistan': 'Asia',\n",
    "    'united arab emirates': 'Asia',\n",
    "    'uzbekistan': 'Asia',\n",
    "    'vietnam': 'Asia',\n",
    "    'yemen': 'Asia',\n",
    "    'albania': 'Europe',\n",
    "    'andorra': 'Europe',\n",
    "    'austria': 'Europe',\n",
    "    'belarus': 'Europe',\n",
    "    'belgium': 'Europe',\n",
    "    'bosnia and herzegovina': 'Europe',\n",
    "    'bulgaria': 'Europe',\n",
    "    'croatia': 'Europe',\n",
    "    'czech republic': 'Europe',\n",
    "    'denmark': 'Europe',\n",
    "    'estonia': 'Europe',\n",
    "    'finland': 'Europe',\n",
    "    'france': 'Europe',\n",
    "    'germany': 'Europe',\n",
    "    'greece': 'Europe',\n",
    "    'hungary': 'Europe',\n",
    "    'iceland': 'Europe',\n",
    "    'ireland': 'Europe',\n",
    "    'italy': 'Europe',\n",
    "    'kosovo': 'Europe',\n",
    "    'latvia': 'Europe',\n",
    "    'liechtenstein': 'Europe',\n",
    "    'lithuania': 'Europe',\n",
    "    'luxembourg': 'Europe',\n",
    "    'malta': 'Europe',\n",
    "    'moldova': 'Europe',\n",
    "    'monaco': 'Europe',\n",
    "    'montenegro': 'Europe',\n",
    "    'netherlands': 'Europe',\n",
    "    'north macedonia': 'Europe',\n",
    "    'norway': 'Europe',\n",
    "    'poland': 'Europe',\n",
    "    'portugal': 'Europe',\n",
    "    'romania': 'Europe',\n",
    "    'russia': 'Europe', \n",
    "    'san marino': 'Europe',\n",
    "    'serbia': 'Europe',\n",
    "    'slovakia': 'Europe',\n",
    "    'slovenia': 'Europe',\n",
    "    'spain': 'Europe',\n",
    "    'sweden': 'Europe',\n",
    "    'switzerland': 'Europe',\n",
    "    'ukraine': 'Europe',\n",
    "    'united kingdom': 'Europe',\n",
    "    'vatican city': 'Europe', \n",
    "    'antigua and barbuda': 'North America',\n",
    "    'bahamas': 'North America',\n",
    "    'barbados': 'North America',\n",
    "    'belize': 'North America',\n",
    "    'canada': 'North America',\n",
    "    'costa rica': 'North America',\n",
    "    'cuba': 'North America',\n",
    "    'dominica': 'North America',\n",
    "    'dominican republic': 'North America',\n",
    "    'el salvador': 'North America',\n",
    "    'grenada': 'North America',\n",
    "    'guatemala': 'North America',\n",
    "    'haiti': 'North America',\n",
    "    'honduras': 'North America',\n",
    "    'jamaica': 'North America',\n",
    "    'mexico': 'North America',\n",
    "    'nicaragua': 'North America',\n",
    "    'panama': 'North America',\n",
    "    'saint kitts and nevis': 'North America',\n",
    "    'saint lucia': 'North America',\n",
    "    'saint vincent and the grenadines': 'North America',\n",
    "    'trinidad and tobago': 'North America',\n",
    "    'united states': 'North America',\n",
    "    'australia': 'Oceania',\n",
    "    'fiji': 'Oceania',\n",
    "    'kiribati': 'Oceania',\n",
    "    'marshall islands': 'Oceania',\n",
    "    'micronesia': 'Oceania',\n",
    "    'nauru': 'Oceania',\n",
    "    'new zealand': 'Oceania',\n",
    "    'palau': 'Oceania',\n",
    "    'papua new guinea': 'Oceania',\n",
    "    'samoa': 'Oceania',\n",
    "    'solomon islands': 'Oceania',\n",
    "    'tonga': 'Oceania',\n",
    "    'tuvalu': 'Oceania',\n",
    "    'vanuatu': 'Oceania',\n",
    "    'argentina': 'South America',\n",
    "    'bolivia': 'South America',\n",
    "    'brazil': 'South America',\n",
    "    'chile': 'South America',\n",
    "    'colombia': 'South America',\n",
    "    'ecuador': 'South America',\n",
    "    'guyana': 'South America',\n",
    "    'paraguay': 'South America',\n",
    "    'peru': 'South America',\n",
    "    'suriname': 'South America',\n",
    "    'uruguay': 'South America',\n",
    "    'venezuela': 'South America',\n",
    "}\n",
    "\n",
    "df['region'] = df['entity'].map(country_to_region)\n",
    "\n",
    "df[['entity','region']]"
   ]
  },
  {
   "cell_type": "markdown",
   "id": "039e96bf-31d8-4213-bc3c-f00b253c7fc0",
   "metadata": {
    "jp-MarkdownHeadingCollapsed": true
   },
   "source": [
    "# correlation"
   ]
  },
  {
   "cell_type": "code",
   "execution_count": null,
   "id": "7db0baa0-cd53-4908-b3ba-e1266bad9ada",
   "metadata": {},
   "outputs": [],
   "source": [
    "correlations = df.iloc[:,2:21].corr()\n",
    "correlations"
   ]
  },
  {
   "cell_type": "code",
   "execution_count": null,
   "id": "9105a1fe-12f7-4055-b1fd-a5eb5b94a277",
   "metadata": {},
   "outputs": [],
   "source": [
    "df.year.sort_values().unique()"
   ]
  },
  {
   "cell_type": "markdown",
   "id": "e0a086e7-cfc2-47f7-b414-84fabd6111de",
   "metadata": {
    "jp-MarkdownHeadingCollapsed": true
   },
   "source": [
    "# how has protein consumption changed over the years? "
   ]
  },
  {
   "cell_type": "code",
   "execution_count": null,
   "id": "2716a7c2-f421-421a-bd45-19a56fa7279a",
   "metadata": {},
   "outputs": [],
   "source": [
    "# you can see a conintual increase in animal protein, and protein in general going up as the life expectancy increases."
   ]
  },
  {
   "cell_type": "code",
   "execution_count": null,
   "id": "0fb383ec-0063-4a8e-8860-104104cf0ea7",
   "metadata": {},
   "outputs": [],
   "source": [
    "correlating_food_type_and_life = df.groupby('year').agg({'life_exp':'mean','daily_cal_veg_protein':'mean','daily_cal_animal_protein':'mean','population':'sum'})"
   ]
  },
  {
   "cell_type": "code",
   "execution_count": null,
   "id": "53a72f0b-b23b-4732-886b-2039958f40b8",
   "metadata": {},
   "outputs": [],
   "source": []
  },
  {
   "cell_type": "code",
   "execution_count": null,
   "id": "327c38da-d2bc-4aeb-afc1-3f93db114d05",
   "metadata": {},
   "outputs": [],
   "source": [
    "plt.figure(figsize=(10, 6.5)) \n",
    "sns.barplot(data= correlating_food_type_and_life,x='year',y='daily_cal_veg_protein',color='g',alpha=0.5,label=\"Vegetable Protein\")\n",
    "sns.barplot(data= correlating_food_type_and_life,x='year',y='daily_cal_animal_protein',color='orange',alpha=0.5,label=\"Animal Protein\")\n",
    "sns.barplot(data= correlating_food_type_and_life,x='year',y='life_exp',color='brown',label=\"Life Expectancy\",alpha=0.8)\n",
    "\n",
    "plt.xticks(rotation=35)\n",
    "plt.xlabel('')\n",
    "plt.ylabel('');"
   ]
  },
  {
   "cell_type": "code",
   "execution_count": null,
   "id": "e929f07c-63fd-4b8e-823a-b9f2a6850e93",
   "metadata": {},
   "outputs": [],
   "source": [
    "sns.set_color_codes(\"muted\")\n",
    "plt.figure(figsize=(10, 5)) \n",
    "sns.lineplot(x=df.year ,y=df['daily_cal_veg_protein'],color='g',label=\"Vegetable Protein\")\n",
    "sns.lineplot(x=df.year, y=df['daily_cal_animal_protein'],color='r',label=\"Animal Protein\")\n",
    "plt.xlabel('')\n",
    "plt.ylabel('');"
   ]
  },
  {
   "cell_type": "code",
   "execution_count": null,
   "id": "1ca141ff-cbbb-4c9c-876f-b1d2e53c3ce6",
   "metadata": {},
   "outputs": [],
   "source": [
    "sns.set_color_codes(\"muted\")\n",
    "plt.figure(figsize=(8, 6))\n",
    "sns.color_palette(\"Spectral\", as_cmap=True)\n",
    "sns.barplot(df,x='daily_cal_veg_protein',y='year',orient='h',alpha=0.7,color='g',label=\"Vegetable Protein\")\n",
    "sns.barplot(df,x='daily_cal_animal_protein',y='year',orient='h',alpha=0.7,color='r',label=\"Animal Protein\")\n",
    "plt.legend(bbox_to_anchor=(0, 1.02, .6, 0.102), loc='lower left',\n",
    "           ncol=2, mode=\"expand\", borderaxespad=0.)\n",
    "plt.xlabel('Protein Grams Per Day')\n",
    "plt.ylabel('');"
   ]
  },
  {
   "cell_type": "markdown",
   "id": "f71d08cd-1e70-482c-ae49-850ba44f39d4",
   "metadata": {
    "jp-MarkdownHeadingCollapsed": true
   },
   "source": [
    "#  Daily protein per capita in grams consumption over the years and life expectancy."
   ]
  },
  {
   "cell_type": "code",
   "execution_count": null,
   "id": "af1c3d93-3707-45c8-85c2-36bee4d5a7f7",
   "metadata": {},
   "outputs": [],
   "source": [
    "life_time = df.groupby('year').agg({'life_exp':'mean'}).sort_values(by='life_exp') \n",
    "life_time = life_time.sort_values(by='year')"
   ]
  },
  {
   "cell_type": "code",
   "execution_count": null,
   "id": "30b98788-0dcb-4d1e-9049-8654ad74c59e",
   "metadata": {},
   "outputs": [],
   "source": [
    "sns.set_color_codes(\"muted\")\n",
    "plt.figure(figsize=(15, 6))\n",
    "sns.barplot(df,x='year',y='life_exp',color='g',alpha=0.5,label= \"Life Expectancy From Birth\")\n",
    "sns.barplot(df,x='year',y='total_daily_protein',color='r',alpha=0.5,label=\"Total Daily Protein\")\n",
    "\n",
    "\n",
    "plt.xlabel('')\n",
    "plt.ylabel('')\n",
    "plt.xticks(rotation = 35);"
   ]
  },
  {
   "cell_type": "markdown",
   "id": "58c06e46-6931-4ae2-b437-24e14b3706d4",
   "metadata": {},
   "source": [
    "  # total calories derived from veg vs animal protein "
   ]
  },
  {
   "cell_type": "markdown",
   "id": "039e366d-dce4-4e8b-b7a7-eddb9de61b87",
   "metadata": {
    "jp-MarkdownHeadingCollapsed": true
   },
   "source": [
    "# #4.)  countries who derive protein mainly from animal sources."
   ]
  },
  {
   "cell_type": "code",
   "execution_count": null,
   "id": "b48da6aa-1c12-4f91-8156-9963221f924f",
   "metadata": {},
   "outputs": [],
   "source": [
    "animal_protein = df.groupby(['region','year']).agg({\n",
    "    'cals_from_protein':'sum'}).sort_values(by='cals_from_protein',ascending = False).reset_index()\n",
    "plt.figure(figsize=(15, 5)) \n",
    "sns.scatterplot(df,x = 'year',y='cals_from_protein',legend=False,hue='region')\n",
    "\n",
    "plt.xlabel('')\n",
    "\n",
    "plt.ylabel(' Protein Consumption');\n"
   ]
  },
  {
   "cell_type": "code",
   "execution_count": null,
   "id": "75e9304a-e8c6-4bcb-99be-3b08e5b224e4",
   "metadata": {},
   "outputs": [],
   "source": [
    "animal_heavy_list = animal_protein.region.to_list()\n",
    "animal_protein"
   ]
  },
  {
   "cell_type": "markdown",
   "id": "7abe8546-1f0d-4b04-888d-a5e9afa92ce0",
   "metadata": {},
   "source": [
    "###  countries who derive protein from mainly veg."
   ]
  },
  {
   "cell_type": "code",
   "execution_count": null,
   "id": "952c7449-4b20-4b89-8728-292c29192de6",
   "metadata": {},
   "outputs": [],
   "source": [
    "veg_pro = df.groupby(['entity','year']).agg({\n",
    "    'daily_cal_veg_protein':'sum'}).sort_values(by='daily_cal_veg_protein',ascending = False).reset_index()\n",
    "\n",
    "\n",
    "veg_pro"
   ]
  },
  {
   "cell_type": "code",
   "execution_count": null,
   "id": "624cb84a-1016-4dbb-aa82-6fbf6f6b5759",
   "metadata": {},
   "outputs": [],
   "source": [
    "veg_heavy_list = veg_pro.entity.to_list()\n",
    "\n",
    "top_veg_protein = df.loc[df['entity'].isin(veg_heavy_list)].reset_index(drop=True)\n"
   ]
  },
  {
   "cell_type": "code",
   "execution_count": null,
   "id": "e1560f2e-f93d-408f-a5f0-a8dbb16f7288",
   "metadata": {},
   "outputs": [],
   "source": [
    "sns.scatterplot(veg_pro,x = 'year',y='daily_cal_veg_protein',hue='entity',legend=False)\n",
    "plt.xlabel('')\n",
    "plt.ylabel('Veg Protein Consumption');"
   ]
  },
  {
   "cell_type": "markdown",
   "id": "c798745e-c8ec-4fde-8043-182c093a5e7d",
   "metadata": {},
   "source": [
    "# life expectancy charts"
   ]
  },
  {
   "cell_type": "markdown",
   "id": "9840d28f-6ac3-4943-9aad-3fe5fb1041eb",
   "metadata": {},
   "source": [
    " ##### There is a strong positive correlation of 0.78 between calories derived from animal protein and a weak positive\n",
    " ##### correlation of 0.022 between calories derived from veg protein."
   ]
  },
  {
   "cell_type": "code",
   "execution_count": null,
   "id": "823c1421-0918-48dd-9b62-1783cdaf8351",
   "metadata": {
    "scrolled": true
   },
   "outputs": [],
   "source": [
    "\n",
    "plt.figure(figsize=(12, 6))  \n",
    "sns.scatterplot(data= df , x='year', y='life_exp',legend=False)  \n",
    "plt.xlabel('')\n",
    "plt.ylabel('Life Expectancy')\n",
    "plt.title('Life Expectancy by Year')\n",
    "plt.tight_layout()\n",
    "plt.show()"
   ]
  },
  {
   "cell_type": "markdown",
   "id": "93dd0315-1ac8-4d6b-84b7-64a69e212ecb",
   "metadata": {
    "jp-MarkdownHeadingCollapsed": true
   },
   "source": [
    "# #7.)how does life expectancy compare beteween countries that derive calories from protein vs carbs vs fat?  "
   ]
  },
  {
   "cell_type": "code",
   "execution_count": null,
   "id": "295458e7-ccf9-4390-b627-73e2e96aea39",
   "metadata": {},
   "outputs": [],
   "source": [
    " # sorted carbohydrate group \n",
    "\n",
    "carb_heavy = df.groupby(['region']).agg({\n",
    "                                            'daily_cal_carbs':'max',\n",
    "                                            'life_exp':'max',\n",
    "                                            'gdp_per_capita':'mean'  \n",
    "                                            }).sort_values(by='daily_cal_carbs',ascending = False).reset_index()\n",
    "\n",
    "carb_heavy['most_calorie_source'] = \"High Carb Diet\"\n",
    "carb_heavy"
   ]
  },
  {
   "cell_type": "code",
   "execution_count": null,
   "id": "f6e13eba-5689-4776-b1f3-9213fa5d2e00",
   "metadata": {},
   "outputs": [],
   "source": [
    "#fat group\n",
    "\n",
    "fat_cals = df.groupby(['region']).agg({\n",
    "    'daily_cal_fat':'max',\n",
    "    'life_exp':'max',\n",
    "    'gdp_per_capita':'mean'\n",
    "    }).sort_values(by='daily_cal_fat',ascending = False).reset_index()\n",
    "\n",
    "fat_cals['most_calorie_source']= \"High Fat Diets\"\n",
    "fat_cals"
   ]
  },
  {
   "cell_type": "code",
   "execution_count": null,
   "id": "afd6a6b5-515d-401f-98eb-a61148fce699",
   "metadata": {},
   "outputs": [],
   "source": [
    "#protein group\n",
    "\n",
    "top_three_protein_cals = df.groupby('region').agg({'cals_from_protein':'max','life_exp':'max','gdp_per_capita':'mean'}).sort_values(by='cals_from_protein',ascending = False)\n",
    "\n",
    "top_three_protein_cals = top_three_protein_cals.reset_index()\n",
    "top_three_protein_cals['most_calorie_source']= \"High Protein Diets\"\n",
    "high_protein_diets = top_three_protein_cals"
   ]
  },
  {
   "cell_type": "code",
   "execution_count": null,
   "id": "67d8bc99-a2d7-4127-a5ab-f4a3bff0d69f",
   "metadata": {},
   "outputs": [],
   "source": [
    "#concat \n",
    "\n",
    "seven1 = pd.concat([carb_heavy,fat_cals])\n",
    "\n",
    "seven_concat = pd.concat([seven1,high_protein_diets])\n",
    "\n",
    "seven_life = seven_concat.sort_values(by='life_exp',ascending = False)\n",
    "seven_gdp  = seven_concat.sort_values(by='gdp_per_capita',ascending = False)\n",
    "\n",
    "sns.barplot(seven_concat.sort_values(by='life_exp',ascending=False) ,x='life_exp',y='gdp_per_capita',hue='region')"
   ]
  },
  {
   "cell_type": "code",
   "execution_count": null,
   "id": "5b7b5f26-a04b-4511-9208-23492183db79",
   "metadata": {},
   "outputs": [],
   "source": [
    "plt.figure(figsize=(12, 8))\n",
    "\n",
    "# Assuming 'seven_life' and 'seven_gdp' are your DataFrames\n",
    "\n",
    "#  Create a color mapping dictionary\n",
    "unique_categories = seven_concat['most_calorie_source'].unique() \n",
    "color_map = {category: plt.cm.Set3(i) for i, category in enumerate(unique_categories)}\n",
    "\n",
    "#  Plot life expectancy with color mapping\n",
    "for i, row in seven_life.iterrows():\n",
    "    plt.bar(row['region'], row['life_exp'], color=color_map[row['most_calorie_source']], alpha=1)\n",
    "\n",
    "\n",
    "# Plot GDP per capita with color mapping (assuming 'most_calorie_source' exists in 'seven_gdp' too)\n",
    "for i, row in seven_gdp.iterrows():\n",
    "    plt.bar(row['region'], row['gdp_per_capita'], color=color_map[row['most_calorie_source']], alpha=0.4)\n",
    "plt.scatter(seven_gdp['region'],seven_gdp['gdp_per_capita'], color='gold', marker=(8, 2, 0), s=150, label='GDP per Capita')\n",
    "plt.scatter(seven_life['region'], seven_life['life_exp'], color='moccasin', marker=(8, 2, 0), s=150, label='Life Expectancy')\n",
    "legend1 = plt.legend(bbox_to_anchor=(0.187, 0.85), loc='upper right')  # Legend for scatter plots\n",
    "\n",
    "plt.yscale('log')\n",
    "plt.ylabel('')\n",
    "plt.xlabel('')\n",
    "\n",
    "# Add the legend\n",
    "plt.gca().add_artist(legend1) \n",
    "plt.legend()\n",
    "\n",
    "# (Optional) Add a color legend\n",
    "handles = [plt.Rectangle((0, 0), 1, 1, color=color_map[category]) for category in unique_categories]\n",
    "plt.legend(handles, unique_categories, title='Most Calorie Source', loc='upper left') \n",
    "plt.yscale('log')\n",
    "plt.gca().get_yaxis().set_visible(False) \n",
    "plt.show()"
   ]
  },
  {
   "cell_type": "code",
   "execution_count": null,
   "id": "146e68c1-638f-41d3-ac4d-696fbe36b0d8",
   "metadata": {},
   "outputs": [],
   "source": [
    "# while there is a correlation betweeen life expectancy and the type of foods you eat, this graph clearly shows the stronger correlation to gdp and what you eat."
   ]
  },
  {
   "cell_type": "markdown",
   "id": "61d5b427-7cd9-41da-8fa6-efc5f123877c",
   "metadata": {
    "jp-MarkdownHeadingCollapsed": true
   },
   "source": [
    "# who in our world, on average, lives the longest/shortest and what are they eating? "
   ]
  },
  {
   "cell_type": "code",
   "execution_count": null,
   "id": "4c89416a-cbb3-4672-bba2-085d581c8c50",
   "metadata": {},
   "outputs": [],
   "source": [
    "grouped = df.groupby('entity')\n",
    "\n",
    "# Define conditions\n",
    "condition1 = df['life_exp'] > df['life_exp'].mean()\n",
    "\n",
    "\n",
    "# Apply .loc with conditions to each group\n",
    "life_exp_above_average = grouped.apply(lambda x: x.loc[condition1 ])\n",
    "sns.scatterplot(life_exp_above_average,x='year',y='life_exp')"
   ]
  },
  {
   "cell_type": "code",
   "execution_count": null,
   "id": "5d600cd8-a772-4fa3-8b67-a666fc2205dc",
   "metadata": {},
   "outputs": [],
   "source": []
  },
  {
   "cell_type": "code",
   "execution_count": null,
   "id": "2b29a153-1437-4de8-8216-5829dca28102",
   "metadata": {},
   "outputs": [],
   "source": []
  },
  {
   "cell_type": "code",
   "execution_count": null,
   "id": "1d69e0de-6109-4a79-801b-a37adc0a9d7f",
   "metadata": {},
   "outputs": [],
   "source": [
    "avg_life_exp = df.groupby(['entity']) \\\n",
    "                                   .agg({'life_exp': 'mean'}) \\\n",
    "                                   .reset_index() \n",
    "\n",
    "avg_life_exp = avg_life_exp.sort_values(by='life_exp',ascending = False).reset_index(drop=True)\n",
    "\n",
    "top_3_life_exp = avg_life_exp\n",
    "bottom_life_exp = avg_life_exp"
   ]
  },
  {
   "cell_type": "code",
   "execution_count": null,
   "id": "1de552de-5927-4838-b8ac-7d659849526b",
   "metadata": {},
   "outputs": [],
   "source": [
    "long_life_list = top_3_life_exp .entity.to_list()\n"
   ]
  },
  {
   "cell_type": "code",
   "execution_count": null,
   "id": "04ec06c9-0af0-4e5e-a11e-b7f32b3b8db0",
   "metadata": {},
   "outputs": [],
   "source": [
    "long_life = final.loc[final['entity'].isin(long_life_list)]\n"
   ]
  },
  {
   "cell_type": "code",
   "execution_count": null,
   "id": "0baa38ca-7ae7-47fb-a4f5-39dc5a53d4d7",
   "metadata": {},
   "outputs": [],
   "source": [
    "long_life = long_life.groupby('entity').agg({'life_exp':'mean','total_daily_protein':'mean','daily_cal_animal_protein':'mean','daily_cal_veg_protein':'mean','gdp_per_capita':'mean','year':'count'}).reset_index().round(2)"
   ]
  },
  {
   "cell_type": "code",
   "execution_count": null,
   "id": "f39f7e64-7735-4960-a1a4-df505bda2cc8",
   "metadata": {},
   "outputs": [],
   "source": [
    "short_list = df.groupby(['entity']) \\\n",
    "                                   .agg({'life_exp': 'max'}) \\\n",
    "                                   .sort_values(by='life_exp', ascending=True) \\\n",
    "                                   .head(3) \\\n",
    "                                   .reset_index() \n",
    "\n",
    "short_list = short_list.entity.to_list()"
   ]
  },
  {
   "cell_type": "code",
   "execution_count": null,
   "id": "c76b50b1-0e02-47fd-ad67-cd76fb7f326b",
   "metadata": {},
   "outputs": [],
   "source": [
    "shorter_life = df.loc[df['entity'].isin(short_list)]"
   ]
  },
  {
   "cell_type": "code",
   "execution_count": null,
   "id": "3376fbeb-11e8-4965-80aa-4f52f1c8f98d",
   "metadata": {},
   "outputs": [],
   "source": [
    "shortest_life = shorter_life.groupby('entity').agg({'life_exp':'mean','total_daily_protein':'mean','daily_cal_animal_protein':'mean','daily_cal_veg_protein':'mean','gdp_per_capita':'mean','year':'count'}).reset_index().round(2)"
   ]
  },
  {
   "cell_type": "markdown",
   "id": "c117a9d3-c8db-41ce-ac3a-9706caed0abf",
   "metadata": {
    "jp-MarkdownHeadingCollapsed": true
   },
   "source": [
    "# protein and gdp"
   ]
  },
  {
   "cell_type": "code",
   "execution_count": null,
   "id": "fe9bdf11-f2a0-4203-b81f-2ce1d8776adf",
   "metadata": {},
   "outputs": [],
   "source": [
    "plt.figure(figsize=(12, 9\n",
    "                   ))\n",
    "sns.barplot(df,x='year',y='total_daily_protein',color='g',label='Toal Daily Protein Intake')\n",
    "sns.barplot(df,x='year',y='gdp_per_capita',color='darkorange',alpha=0.5,label='GDP Per Capita')\n",
    "plt.yscale('log')\n",
    "plt.ylabel('')\n",
    "plt.xticks(rotation= 30)\n",
    "plt.legend(loc='upper left');"
   ]
  },
  {
   "cell_type": "code",
   "execution_count": null,
   "id": "8e259c24-0796-4cad-b17e-fe90c3723778",
   "metadata": {},
   "outputs": [],
   "source": [
    "plt.figure(figsize=(10, 5)) \n",
    "\n",
    "\n",
    "sns.scatterplot(data= df,x=df['gdp_per_capita'], y=df['total_daily_protein'],color='r',alpha=0.5)\n",
    "sns.scatterplot(data= df,x=df['gdp_per_capita'], y=df['life_exp'],color='green',alpha=0.5)\n",
    "\n",
    "\n",
    "sns.color_palette(\"flare\", as_cmap=True)\n",
    "plt.xlabel('GDP', fontsize=12)\n",
    "plt.ylabel('Protein Per Capita in Grams', fontsize=12)\n",
    "plt.title('GDP vs Protein per day', fontsize=14)\n",
    "\n",
    "\n",
    "\n",
    "plt.grid(True) \n",
    "plt.tight_layout() \n",
    "plt.show();"
   ]
  },
  {
   "cell_type": "code",
   "execution_count": null,
   "id": "029d6a2f-d795-415a-84c9-83bbfec7dd3b",
   "metadata": {},
   "outputs": [],
   "source": [
    "sns.set_color_codes(\"muted\")\n",
    "plt.figure(figsize=(6, 6))\n",
    "sns.barplot(data=long_life.sort_values(by='life_exp',ascending=False),x='life_exp',y='entity',orient=\"h\",color='r')\n",
    "\n",
    "sns.set_color_codes(\"pastel\")\n",
    "sns.barplot(data=shortest_life.sort_values(by='life_exp',ascending=False),x='life_exp',y='entity',orient=\"h\",color='g')\n",
    "plt.xlabel('Life Expectancy From Birth')\n",
    "plt.ylabel('');"
   ]
  },
  {
   "cell_type": "markdown",
   "id": "2922372b-7f7a-49ea-8500-8ba67612e017",
   "metadata": {
    "jp-MarkdownHeadingCollapsed": true
   },
   "source": [
    "#  top 3 countires that have eaten the MOST protein rich diets from 1990-2021?"
   ]
  },
  {
   "cell_type": "code",
   "execution_count": null,
   "id": "0d77c4d2-5ae8-4aef-b565-254f51f37668",
   "metadata": {},
   "outputs": [],
   "source": [
    "top_three_most_protein = df.groupby(['entity']) \\\n",
    "                                   .agg({'total_daily_protein': 'sum','life_exp':'max','gdp_per_capita': 'mean'}) \\\n",
    "                                   .sort_values(by='total_daily_protein', ascending=False) \\\n",
    "                                   .head(3)\\\n",
    "                                   .reset_index() \n",
    "\n",
    "top_three_most_protein = top_three_most_protein.sort_values(by='life_exp',ascending=False)\n",
    "   \n",
    "sns.set_color_codes(\"muted\")\n",
    "sns.barplot(top_three_most_protein,x = 'entity',y='total_daily_protein',hue='entity',color='g')\n",
    "plt.xlabel('Country')\n",
    "plt.ylabel('Daily Protein Intake');\n",
    "\n"
   ]
  },
  {
   "cell_type": "markdown",
   "id": "d524dd2b-13ac-4ee4-83bb-9c1dc55011fa",
   "metadata": {},
   "source": [
    "###  what countries have eaten the LEAST grams per day of protein rich diets over these years?"
   ]
  },
  {
   "cell_type": "code",
   "execution_count": null,
   "id": "03c2703d-d9ce-4b2e-8cd4-40ad7f8d6209",
   "metadata": {},
   "outputs": [],
   "source": [
    "bottom_three_least_protein = df.groupby(['entity']) \\\n",
    "                                   .agg({'total_daily_protein': 'sum','life_exp':'max','gdp_per_capita': 'mean'}) \\\n",
    "                                   .sort_values(by='total_daily_protein', ascending=True) \\\n",
    "                                   .head(3) \\\n",
    "                                   .reset_index()                      \n",
    "\n",
    "   \n",
    "sns.barplot(bottom_three_least_protein,x = 'entity',y='total_daily_protein',hue='entity',color='g')\n",
    "plt.xticks(rotation = 25);"
   ]
  },
  {
   "cell_type": "code",
   "execution_count": null,
   "id": "8d94045b-832e-4c31-bea5-e4518bcd2b4e",
   "metadata": {},
   "outputs": [],
   "source": [
    "bottom_three_least_protein.sort_values(by='life_exp',ascending = False)"
   ]
  },
  {
   "cell_type": "code",
   "execution_count": null,
   "id": "c24d6c1a-507b-4cf6-9a65-36444cfd2aa0",
   "metadata": {},
   "outputs": [],
   "source": [
    "top_and_bottom_total_daily_protein = pd.concat([top_three_most_protein,bottom_three_least_protein])\n"
   ]
  },
  {
   "cell_type": "markdown",
   "id": "fc459fb2-b1e7-4611-9bdd-21dceba8e27a",
   "metadata": {
    "jp-MarkdownHeadingCollapsed": true
   },
   "source": [
    "# #1 What is the correlation between the consumption of food types per capita and life expectancy across different countries, and how has this correlation changed over time?   "
   ]
  },
  {
   "cell_type": "code",
   "execution_count": null,
   "id": "c8099c74-476b-4447-b6fe-38ef450dc920",
   "metadata": {},
   "outputs": [],
   "source": [
    "plt.figure(figsize=(10, 5))\n",
    "sns.set_style(\"darkgrid\", {\"grid.color\": \".6\", \"grid.linestyle\": \":\"})\n",
    "sns.regplot(\n",
    "    data=df, x=\"total_daily_protein\", y=\"life_exp\",\n",
    "    ci=99, marker=(8,2,0), color='r',line_kws=dict(color=\"g\",))\n",
    "plt.xlabel('Life Expectancy')\n",
    "plt.tight_layout()\n",
    "plt.ylabel('Total Daily Protein Intake');"
   ]
  },
  {
   "cell_type": "code",
   "execution_count": null,
   "id": "3bb74e1c-ec7f-47c9-bbda-7ecbbf29c414",
   "metadata": {},
   "outputs": [],
   "source": []
  },
  {
   "cell_type": "markdown",
   "id": "049950c5-9a60-485e-b8be-55d286800b80",
   "metadata": {
    "jp-MarkdownHeadingCollapsed": true
   },
   "source": [
    "# Do countries with a higher ratio vegetables protein consumption compared to animal protein exhibit higher life expectancies, and how does this relationship vary across different regions?   "
   ]
  },
  {
   "cell_type": "code",
   "execution_count": null,
   "id": "21837272-ad40-4acc-858d-709ce1f0dfdf",
   "metadata": {},
   "outputs": [],
   "source": [
    "# formulating a ratio "
   ]
  },
  {
   "cell_type": "code",
   "execution_count": null,
   "id": "03b3f814-d48f-4cc4-9d77-82673e60d67f",
   "metadata": {},
   "outputs": [],
   "source": [
    "more_meat = df.loc[df['animal_protein_ratio'] > df['veg_protein_ratio']]\n",
    "\n",
    "more_veg = df.loc[df['veg_protein_ratio'] > df['animal_protein_ratio']]"
   ]
  },
  {
   "cell_type": "code",
   "execution_count": null,
   "id": "e13a1ee8-3699-401b-a5e6-206e237bf40a",
   "metadata": {},
   "outputs": [],
   "source": [
    "\n",
    "df['veg_protein_ratio'] = df['daily_cal_veg_protein']/  df['daily_cal_animal_protein']\n",
    "df['animal_protein_ratio']= df['daily_cal_animal_protein']/df['daily_cal_veg_protein']\n",
    "\n",
    "plt.figure(figsize=(12, 8))\n",
    "sns.scatterplot(x= df['veg_protein_ratio'],y=df['life_exp'],color='g',label=\"Veg Protein\")\n",
    "sns.scatterplot(x= df['animal_protein_ratio'],y=df['life_exp'],color='r',label=\"Animal Protein\")\n",
    "plt.xlabel('Protein Consumption')\n",
    "plt.ylabel(\"Life Expectancy\");"
   ]
  },
  {
   "cell_type": "code",
   "execution_count": null,
   "id": "483d1142-e1f0-4fa6-a0e4-3acff9695528",
   "metadata": {},
   "outputs": [],
   "source": [
    "sns.set_color_codes(\"muted\")\n",
    "plt.figure(figsize=(10, 5)) \n",
    "sns.boxplot(more_meat,x='year',y='life_exp',color='r')\n",
    "sns.boxplot(more_veg,x='year',y='life_exp',color='g',)\n",
    "plt.xticks(rotation =35);"
   ]
  },
  {
   "cell_type": "code",
   "execution_count": null,
   "id": "088ae787-b122-4867-803b-459ac87fc5d2",
   "metadata": {},
   "outputs": [],
   "source": [
    "# veg protein X life by region\n",
    "\n",
    "sns.lmplot(\n",
    "    data=df, x=\"veg_protein_ratio\", y=\"life_exp\", col=\"region\", hue=\"region\",\n",
    "    col_wrap=2, palette=\"Paired\", ci=None,\n",
    "    height=4, scatter_kws={\"s\": 30, \"alpha\": .4})\n",
    ";\n",
    "\n"
   ]
  },
  {
   "cell_type": "code",
   "execution_count": null,
   "id": "c643fa82-2e02-44a9-a2f7-e0813bbd5e56",
   "metadata": {},
   "outputs": [],
   "source": [
    "\n",
    "sns.lmplot(\n",
    "    data=df, x=\"animal_protein_ratio\", y=\"life_exp\", col=\"region\", hue=\"region\",\n",
    "    col_wrap=2, palette=\"Paired\", ci=None,\n",
    "    height=4, scatter_kws={\"s\": 30, \"alpha\": .2});\n",
    "\n"
   ]
  },
  {
   "cell_type": "code",
   "execution_count": null,
   "id": "d00dcf58-20af-4c90-9828-e7def9392e45",
   "metadata": {},
   "outputs": [],
   "source": [
    "\n",
    "plt.figure(figsize=(10, 5)) \n",
    "sns.scatterplot(data=df,x='animal_protein_ratio',y='life_exp',hue='region',alpha=0.9,palette='Paired')\n",
    "\n",
    "plt.xlabel(\"Animal Protein Consumption\")\n",
    "\n",
    "plt.ylabel(\"Life Expectancy\");\n"
   ]
  },
  {
   "cell_type": "code",
   "execution_count": null,
   "id": "455ee24f-2029-49e2-aae5-0b0fdfe80566",
   "metadata": {},
   "outputs": [],
   "source": [
    "\n",
    "plt.figure(figsize=(10, 5)) \n",
    "sns.scatterplot(data=df,x='veg_protein_ratio',y='life_exp',hue='region',alpha=0.9,palette='Paired')\n",
    "\n",
    "plt.xlabel(\"Vegetable Protein Consumption\")\n",
    "\n",
    "plt.ylabel(\"Life Expectancy\");\n"
   ]
  },
  {
   "cell_type": "markdown",
   "id": "8a1c38f4-9284-4d67-8e6b-8173cd017c00",
   "metadata": {
    "jp-MarkdownHeadingCollapsed": true
   },
   "source": [
    "# How does the variety of food consumed (measured by the number of different food categories with significant per capita consumption) correlate with life expectancy across different countries, and does this correlation differ between high-income and low-income countries?"
   ]
  },
  {
   "cell_type": "markdown",
   "id": "74a80a04-5f34-44ea-accf-2005238460e0",
   "metadata": {
    "jp-MarkdownHeadingCollapsed": true
   },
   "source": [
    "# what is the most popular protein source in the world?"
   ]
  },
  {
   "cell_type": "code",
   "execution_count": null,
   "id": "848f92ec-26ae-44c5-9e87-900e66ccd3d3",
   "metadata": {},
   "outputs": [],
   "source": [
    "protein_sources_sum = df.iloc[:,3:11].sum().round().to_frame().reset_index()"
   ]
  },
  {
   "cell_type": "code",
   "execution_count": null,
   "id": "3351c793-d6b4-4cc7-b0c0-4901330fb5c3",
   "metadata": {},
   "outputs": [],
   "source": [
    "ranking_proteins = protein_sources_sum.rename(columns={protein_sources_sum.columns[0]:'protein_type',\n",
    "                                                       protein_sources_sum.columns[1]:'sum_of_consumption'})"
   ]
  },
  {
   "cell_type": "code",
   "execution_count": null,
   "id": "449e477f-c6cb-48e1-972c-5d65d0f816ea",
   "metadata": {},
   "outputs": [],
   "source": [
    "ranking_proteins['rank'] = ranking_proteins['sum_of_consumption'].rank(ascending=False)"
   ]
  },
  {
   "cell_type": "code",
   "execution_count": null,
   "id": "4ba58548-ca73-49cb-a831-63ead125944a",
   "metadata": {},
   "outputs": [],
   "source": [
    "ranking_proteins = ranking_proteins.sort_values(by='rank',ascending= True).reset_index(drop=True)"
   ]
  },
  {
   "cell_type": "code",
   "execution_count": null,
   "id": "3359efd4-3e57-49c6-9b3c-5297af4bf81c",
   "metadata": {},
   "outputs": [],
   "source": [
    "ranking_proteins.columns"
   ]
  },
  {
   "cell_type": "code",
   "execution_count": null,
   "id": "00e0cc8a-0e9f-4eb4-9716-ed84fe7c1424",
   "metadata": {},
   "outputs": [],
   "source": [
    "sns.barplot(ranking_proteins,x='sum_of_consumption',y='protein_type',orient='h',hue='rank',legend=False)\n",
    "plt.xlabel('Sum of Consumption Across All Years')\n",
    "plt.ylabel('');"
   ]
  }
 ],
 "metadata": {
  "kernelspec": {
   "display_name": "Python 3 (ipykernel)",
   "language": "python",
   "name": "python3"
  },
  "language_info": {
   "codemirror_mode": {
    "name": "ipython",
    "version": 3
   },
   "file_extension": ".py",
   "mimetype": "text/x-python",
   "name": "python",
   "nbconvert_exporter": "python",
   "pygments_lexer": "ipython3",
   "version": "3.12.4"
  }
 },
 "nbformat": 4,
 "nbformat_minor": 5
}
