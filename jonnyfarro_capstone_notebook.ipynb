{
 "cells": [
  {
   "cell_type": "code",
   "execution_count": null,
   "id": "3e9ca249-02c5-48a8-807f-91add569e90f",
   "metadata": {},
   "outputs": [],
   "source": [
    "import pandas as pd\n",
    "import seaborn as sns\n",
    "import matplotlib.pyplot as plt"
   ]
  },
  {
   "cell_type": "code",
   "execution_count": null,
   "id": "2635d2b1-33fa-452f-9089-76ca2a2aa386",
   "metadata": {},
   "outputs": [],
   "source": [
    "protein_one = pd.read_csv('/Users/jonathanfarro/Desktop/animal-protein-consumption.csv')\n",
    "\n",
    "life_ex = pd.read_csv('/Users/jonathanfarro/Desktop/ Capstone Files/life-expectancy-hmd-unwpp.csv')\n",
    "\n",
    "usa_pricing = pd.read_csv('/Users/jonathanfarro/Desktop/ Capstone Files/average_prices_for_food.csv')\n",
    "\n",
    "daily_cals = pd.read_csv('/Users/jonathanfarro/Desktop/ Capstone Files/daily-caloric-supply-derived-from-carbohydrates-protein-and-fat.csv')\n",
    "\n",
    "fruit_per_cap = pd.read_csv('/Users/jonathanfarro/Desktop/ Capstone Files/fruit-consumption-per-capita.csv')\n",
    "\n",
    "veg_per_cap = pd.read_csv('/Users/jonathanfarro/Desktop/ Capstone Files/vegetable-consumption-per-capita/vegetable-consumption-per-capita.csv' )\n",
    "\n",
    "nutrition =  pd.read_excel('/Users/jonathanfarro/Desktop/ Capstone Files/food_comp.xlsx')\n",
    "\n",
    "protein_per_GDP = pd.read_csv('/Users/jonathanfarro/Desktop/ Capstone Files/daily-per-capita-protein-supply-vs-gdp-per-capita.csv')\n",
    "\n",
    "death = pd.read_csv('/Users/jonathanfarro/Desktop/ Capstone Files/death-rate-by-cause-who-mdb.csv')\n",
    "\n"
   ]
  },
  {
   "cell_type": "code",
   "execution_count": null,
   "id": "9b495f5c-d1ba-4a50-b37a-e0b618d958c7",
   "metadata": {},
   "outputs": [],
   "source": [
    "# rename columns to something easier to work with \n",
    "\n",
    "protein = protein_one.rename(columns={\n",
    "                        protein_one.columns[3]:'fish',\n",
    "                        protein_one.columns[4]:'poultry',\n",
    "                        protein_one.columns[5]:'pork',\n",
    "                        protein_one.columns[6]:'beef',\n",
    "                        protein_one.columns[7]:'sheep/goat',\n",
    "                        protein_one.columns[8]:'other',\n",
    "                        protein_one.columns[9]:'eggs',\n",
    "                        protein_one.columns[10]:'milk'\n",
    "                       })"
   ]
  },
  {
   "cell_type": "code",
   "execution_count": null,
   "id": "48673e55-b5ac-46f0-a3c7-4898c145f2a0",
   "metadata": {},
   "outputs": [],
   "source": [
    "# bulk clean up \n",
    "protein = protein.rename(columns=lambda x: x.lower())\n",
    "protein = protein.map(lambda x: x.lower() if isinstance(x, str) else x).reset_index(drop=True)\n",
    "\n",
    "life_ex = life_ex.rename(columns = lambda x: x.lower())\n",
    "life_ex = life_ex.map(lambda x:x.lower() if isinstance(x,str) else x).reset_index(drop = True)\n",
    "life_ex = life_ex.rename(columns = {life_ex.columns[3] : 'life_expectancy(0)'})\n",
    "\n",
    "vitamins = vitamins.rename(columns = lambda x: x.lower())\n",
    "vitamins = vitamins.map(lambda x:x.lower() if isinstance(x,str) else x).reset_index(drop = True)\n",
    "\n",
    "protein_per_GDP = protein_per_GDP.rename(columns = lambda x: x.lower())\n",
    "protein_per_GDP = protein_per_GDP.map(lambda x:x.lower() if isinstance(x,str) else x).reset_index(drop = True)\n",
    "gdp_population = protein_per_GDP.drop(columns= {protein_per_GDP.columns[3],protein_per_GDP.columns[6]})\n",
    "gdp_population = gdp_population.rename(columns = { gdp_population.columns[3]: 'gdp_per_capita'}) \n",
    "\n",
    "\n",
    "daily_cals = daily_cals.rename(columns = lambda x: x.lower())\n",
    "daily_cals = daily_cals.map(lambda x:x.lower() if isinstance(x,str) else x).reset_index(drop = True)\n",
    "\n",
    "death = death.rename(columns = lambda x: x.lower())\n",
    "death = death.map(lambda x:x.lower() if isinstance(x,str) else x).reset_index(drop = True)\n",
    "\n",
    "nutrition = nutrition.rename(columns = lambda x: x.lower())\n",
    "nutrition = nutrition.map(lambda x:x.lower() if isinstance(x,str) else x).reset_index(drop = True)\n",
    "\n",
    "fruit_per_cap = fruit_per_cap.rename(columns=lambda x: x.lower())\n",
    "fruit_per_cap = fruit_per_cap.map(lambda x: x.lower() if isinstance(x, str) else x).reset_index(drop=True)\n",
    "fruit = fruit_per_cap.rename(columns = {fruit_per_cap.columns[3]:'fruit_kilo_yearly'}).reset_index(drop = True)\n"
   ]
  },
  {
   "cell_type": "code",
   "execution_count": null,
   "id": "ece4cdab-3886-4c70-bb91-84b00eafaa2f",
   "metadata": {},
   "outputs": [],
   "source": [
    "# creating a new column to show total_protein intake for a day.\n",
    "protein['total_protein'] = protein.iloc[:, 3:11].sum(axis = 1).round(2)\n",
    "protein.head()"
   ]
  },
  {
   "cell_type": "code",
   "execution_count": null,
   "id": "16d4452c-e4ae-440e-b972-c162edb5c7f8",
   "metadata": {},
   "outputs": [],
   "source": [
    "fruit_per_cap = fruit_per_cap.rename(columns=lambda x: x.lower())\n",
    "fruit_per_cap = fruit_per_cap.map(lambda x: x.lower() if isinstance(x, str) else x).reset_index(drop=True)\n",
    "fruit = fruit_per_cap.rename(columns = {fruit_per_cap.columns[3]:'fruit_kilo_yearly'}).reset_index(drop = True)"
   ]
  },
  {
   "cell_type": "code",
   "execution_count": null,
   "id": "419835e2-ebb7-4079-9d51-d0cda8f9223f",
   "metadata": {},
   "outputs": [],
   "source": [
    "capstone = pd.merge(protein,\n",
    "         life_ex,\n",
    "         on= ['entity','code','year'],\n",
    "         how= 'inner')\n",
    "\n",
    "capstone.head()"
   ]
  },
  {
   "cell_type": "code",
   "execution_count": null,
   "id": "0cc4a649-042a-4801-8029-23e06aed15bd",
   "metadata": {},
   "outputs": [],
   "source": [
    "capstone_2 = pd.merge( capstone, gdp_population, on = ['entity','code','year'],how= 'inner')\n",
    "\n",
    "main_frame = pd.merge(capstone_2,death,  on = ['entity','code','year'],how= 'outer')\n",
    "\n",
    "final_frame = pd.merge(main_frame, daily_cals,  on = ['entity','code','year'],how= 'outer')\n",
    "\n",
    "final_frame['total_daily_protein']=final_frame.iloc[:, 3:10].sum(axis=1)\n",
    "\n",
    "final_frame = final_frame.rename(columns= { 'daily calorie supply per person that comes from animal protein':'daily_cal_animal_protein',\n",
    "                              'daily calorie supply per person that comes from vegetal protein':'daily_cal_veg_protein',\n",
    "                              'daily calorie supply per person from fat':'daily_cal_fat',\n",
    "                              'daily calorie supply per person from carbohydrates':'daily_cal_carbs'})\n",
    "final_frame"
   ]
  },
  {
   "cell_type": "code",
   "execution_count": null,
   "id": "227edf45-31a1-4f7e-be83-dcd8f57c50c9",
   "metadata": {},
   "outputs": [],
   "source": [
    "#creating an all_cause_mortality column, and more cleaning"
   ]
  },
  {
   "cell_type": "code",
   "execution_count": null,
   "id": "fcf19d03-ae00-4aa4-ab05-84d5d4b61892",
   "metadata": {},
   "outputs": [],
   "source": [
    "final_frame['all_cause_per_100k'] = final_frame.iloc[:,15:24].sum(axis=1)\n",
    "\n",
    "final_frame_two = final_frame.drop(columns=final_frame.columns[15:24])\n",
    "\n",
    "final_frame_three = final_frame_two[~final_frame_two['entity'].str.contains(r'\\(.*\\)')]\n",
    "\n",
    "final = final_frame_three\n",
    "final = final.rename(columns={'life_expectancy(0)':'life_exp','population (historical)':'population'})"
   ]
  },
  {
   "cell_type": "markdown",
   "id": "2922372b-7f7a-49ea-8500-8ba67612e017",
   "metadata": {},
   "source": [
    "# what countries have eaten the MOST protein rich diets over these years?"
   ]
  },
  {
   "cell_type": "code",
   "execution_count": null,
   "id": "0d77c4d2-5ae8-4aef-b565-254f51f37668",
   "metadata": {},
   "outputs": [],
   "source": [
    "top_five_total_protein = final.groupby(['entity']) \\\n",
    "                                   .agg({'total_daily_protein': 'sum'}) \\\n",
    "                                   .sort_values(by='total_daily_protein', ascending=False) \\\n",
    "                                   .head(5) \\\n",
    "                                   .reset_index()                      \n",
    "\n",
    "   \n",
    "sns.barplot(top_five_total_protein,x = 'entity',y='total_daily_protein',hue='entity');"
   ]
  },
  {
   "cell_type": "markdown",
   "id": "d524dd2b-13ac-4ee4-83bb-9c1dc55011fa",
   "metadata": {},
   "source": [
    "# what countries have eaten the LEAST protein rich diets over these years?"
   ]
  },
  {
   "cell_type": "code",
   "execution_count": null,
   "id": "03c2703d-d9ce-4b2e-8cd4-40ad7f8d6209",
   "metadata": {},
   "outputs": [],
   "source": [
    "final_2 = final.loc[final['total_daily_protein'] != 0.00]\n",
    "\n",
    "bottom_five_total_protein = final_2.groupby(['entity']) \\\n",
    "                                   .agg({'total_daily_protein': 'sum'}) \\\n",
    "                                   .sort_values(by='total_daily_protein', ascending=True) \\\n",
    "                                   .head(5) \\\n",
    "                                   .reset_index()                      \n",
    "\n",
    "   \n",
    "sns.barplot(bottom_five_total_protein,x = 'entity',y='total_daily_protein',hue='entity')\n",
    "plt.xticks(rotation = 25);"
   ]
  },
  {
   "cell_type": "code",
   "execution_count": null,
   "id": "881b1f7a-c133-48e3-8f20-6915480fab13",
   "metadata": {},
   "outputs": [],
   "source": []
  },
  {
   "cell_type": "markdown",
   "id": "039e366d-dce4-4e8b-b7a7-eddb9de61b87",
   "metadata": {},
   "source": [
    "## top 5 countries who derive protein mainly from animal sources."
   ]
  },
  {
   "cell_type": "code",
   "execution_count": null,
   "id": "b48da6aa-1c12-4f91-8156-9963221f924f",
   "metadata": {},
   "outputs": [],
   "source": [
    "animal_protein = final.groupby(['entity']).agg({\n",
    "    'daily_cal_animal_protein':'sum'}).sort_values(by='daily_cal_animal_protein',ascending = False).head(5).reset_index()\n",
    "sns.barplot(animal_protein,x = 'entity',y='daily_cal_animal_protein',hue='entity');"
   ]
  },
  {
   "cell_type": "markdown",
   "id": "7abe8546-1f0d-4b04-888d-a5e9afa92ce0",
   "metadata": {},
   "source": [
    "# top 5 countries who derive protein from mainly veg "
   ]
  },
  {
   "cell_type": "code",
   "execution_count": null,
   "id": "952c7449-4b20-4b89-8728-292c29192de6",
   "metadata": {},
   "outputs": [],
   "source": [
    "veg_pro = final.groupby(['entity']).agg({\n",
    "    'daily_cal_veg_protein':'sum'}).sort_values(by='daily_cal_veg_protein',ascending = False).head(5).reset_index()\n",
    "sns.barplot(veg_pro,x = 'entity',y='daily_cal_veg_protein',hue='entity');\n",
    "\n"
   ]
  },
  {
   "cell_type": "code",
   "execution_count": null,
   "id": "905f06e9-9c9f-4dcc-9ee7-95ab90321de5",
   "metadata": {},
   "outputs": [],
   "source": [
    "veg_heavy_list = veg_pro.entity.to_list()\n",
    "animal_heavy_list = animal_protein.entity.to_list()\n",
    "animal_heavy_list"
   ]
  },
  {
   "cell_type": "markdown",
   "id": "1fbe2b1a-0aa5-431a-9d39-33ed1e981e4a",
   "metadata": {},
   "source": [
    "# how does protein type effect all cause mortality. "
   ]
  },
  {
   "cell_type": "code",
   "execution_count": null,
   "id": "21970c5f-a183-4ac5-bb8a-917fe07a8c2b",
   "metadata": {},
   "outputs": [],
   "source": [
    "all_cause_average = final.groupby(['entity']) \\\n",
    "                                   .agg({'all_cause_per_100k': 'sum'}) \\\n",
    "                                   .reset_index()   \n",
    "\n",
    "animal_all_cause = all_cause_average.loc[all_cause_average['entity'].isin(animal_heavy_list)].sort_values(by='all_cause_per_100k',ascending = False)\n",
    "\n",
    "veg_all_cause = all_cause_average.loc[all_cause_average['entity'].isin(veg_heavy_list)].sort_values(by='all_cause_per_100k',ascending = False)\n",
    "animal_all_cause"
   ]
  },
  {
   "cell_type": "code",
   "execution_count": null,
   "id": "6297cd05-0239-4b94-b018-e4e2df258410",
   "metadata": {},
   "outputs": [],
   "source": [
    "sns.barplot(animal_all_cause,x='entity',y='all_cause_per_100k')\n",
    "sns.barplot(veg_all_cause,x='entity',y='all_cause_per_100k')\n",
    "plt.xticks(rotation=40);"
   ]
  },
  {
   "cell_type": "markdown",
   "id": "c798745e-c8ec-4fde-8043-182c093a5e7d",
   "metadata": {},
   "source": [
    "# how does life expectancy compare beteween top and bottom veg/animal protein? "
   ]
  },
  {
   "cell_type": "code",
   "execution_count": null,
   "id": "b1418f48-9fae-46db-b06f-0a0589defadf",
   "metadata": {},
   "outputs": [],
   "source": [
    "median_life_exp = final.groupby(['entity']) \\\n",
    "                                   .agg({'all_cause_per_100k': 'median'}) \\\n",
    "                                   .reset_index() "
   ]
  },
  {
   "cell_type": "code",
   "execution_count": null,
   "id": "ec845c9c-b66f-4096-9bea-5246316dbe38",
   "metadata": {},
   "outputs": [],
   "source": [
    "average_life_exp_animal_protein = median_life.loc[median_life['entity'].isin(animal_heavy_list)]"
   ]
  },
  {
   "cell_type": "code",
   "execution_count": null,
   "id": "34ec7528-a842-40b5-a90c-edab79115235",
   "metadata": {},
   "outputs": [],
   "source": [
    "average_life_exp_veg_protein = median_life.loc[median_life['entity'].isin(veg_heavy_list)]"
   ]
  },
  {
   "cell_type": "code",
   "execution_count": null,
   "id": "9740b895-54d3-44fa-830d-3c97d815e15d",
   "metadata": {},
   "outputs": [],
   "source": [
    "sns.barplot(average_life_exp_animal_protein,x='entity',y='life_exp')\n",
    "sns.barplot(average_life_exp_veg_protein,x='entity',y='life_exp')\n",
    "plt.xticks(rotation=40);\n"
   ]
  },
  {
   "cell_type": "code",
   "execution_count": null,
   "id": "5987832d-dca4-42fb-8028-60fd41d47cc3",
   "metadata": {},
   "outputs": [],
   "source": [
    "final.groupby(['entity']) \\\n",
    "                                   .agg({'all_cause_per_100k': 'max'}) \\\n",
    "                                   .sort_values(by='all_cause_per_100k', ascending=False) \\\n",
    "                                   .head(5) \\\n",
    "                                   .reset_index()  "
   ]
  },
  {
   "cell_type": "markdown",
   "id": "039e96bf-31d8-4213-bc3c-f00b253c7fc0",
   "metadata": {
    "jp-MarkdownHeadingCollapsed": true
   },
   "source": [
    "# correlation"
   ]
  },
  {
   "cell_type": "code",
   "execution_count": null,
   "id": "7db0baa0-cd53-4908-b3ba-e1266bad9ada",
   "metadata": {},
   "outputs": [],
   "source": [
    "correlations = final.iloc[:,2:21].corr()\n",
    "correlations"
   ]
  },
  {
   "cell_type": "code",
   "execution_count": null,
   "id": "50f986d8-5203-4910-9ad6-11a475753685",
   "metadata": {},
   "outputs": [],
   "source": [
    "nutrition.iloc[:,2:20].corr()"
   ]
  },
  {
   "cell_type": "code",
   "execution_count": null,
   "id": "01a78010-cc7b-446b-86ad-c7a7431a43d2",
   "metadata": {},
   "outputs": [],
   "source": [
    "final = final.rename(columns={'life_expectancy(0)':'life_exp','population (historical)':'population'})"
   ]
  },
  {
   "cell_type": "markdown",
   "id": "61d5b427-7cd9-41da-8fa6-efc5f123877c",
   "metadata": {},
   "source": [
    "# nice"
   ]
  },
  {
   "cell_type": "code",
   "execution_count": null,
   "id": "ffa0b9ab-6da3-418c-998e-c2402ce24a7c",
   "metadata": {},
   "outputs": [],
   "source": [
    "final.columns"
   ]
  },
  {
   "cell_type": "code",
   "execution_count": null,
   "id": "8fd18420-2118-42f3-bb32-ed75caf2c383",
   "metadata": {},
   "outputs": [],
   "source": []
  }
 ],
 "metadata": {
  "kernelspec": {
   "display_name": "Python 3 (ipykernel)",
   "language": "python",
   "name": "python3"
  },
  "language_info": {
   "codemirror_mode": {
    "name": "ipython",
    "version": 3
   },
   "file_extension": ".py",
   "mimetype": "text/x-python",
   "name": "python",
   "nbconvert_exporter": "python",
   "pygments_lexer": "ipython3",
   "version": "3.12.4"
  }
 },
 "nbformat": 4,
 "nbformat_minor": 5
}
